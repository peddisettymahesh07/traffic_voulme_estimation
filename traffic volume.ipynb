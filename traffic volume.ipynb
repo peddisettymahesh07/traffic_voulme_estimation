{
 "cells": [
  {
   "cell_type": "code",
   "execution_count": 4,
   "id": "16bb049e",
   "metadata": {},
   "outputs": [
    {
     "name": "stdout",
     "output_type": "stream",
     "text": [
      "model.pkl and scale.pkl saved!\n"
     ]
    }
   ],
   "source": [
    "import pandas as pd\n",
    "from sklearn.ensemble import RandomForestRegressor\n",
    "from sklearn.preprocessing import StandardScaler\n",
    "import pickle\n",
    "\n",
    "import os\n",
    "\n",
    "# Create a sample CSV if not present\n",
    "if not os.path.exists(\"traffic_volume.csv\"):\n",
    "    sample_data = {\n",
    "        'holiday': ['None', 'Christmas Day', 'Thanksgiving Day'],\n",
    "        'temp': [280.32, 285.15, 290.12],\n",
    "        'rain': [0.0, 0.2, 0.0],\n",
    "        'snow': [0.0, 0.0, 0.1],\n",
    "        'weather': ['Clear', 'Clouds', 'Rain'],\n",
    "        'day': [1, 2, 3],\n",
    "        'month': [1, 2, 3],\n",
    "        'year': [2016, 2017, 2018],\n",
    "        'hours': [8, 9, 10],\n",
    "        'minutes': [0, 15, 30],\n",
    "        'seconds': [0, 0, 0],\n",
    "        'traffic_volume': [400, 500, 600]\n",
    "    }\n",
    "    pd.DataFrame(sample_data).to_csv(\"traffic_volume.csv\", index=False)\n",
    "\n",
    "# Load your data\n",
    "df = pd.read_csv(\"traffic_volume.csv\")  # Make sure this file is in the same folder\n",
    "\n",
    "# Map categorical columns\n",
    "holiday_mapping = {\n",
    "    'None': 7, 'Columbus Day': 1, 'Veterans Day': 10, 'Thanksgiving Day': 9,\n",
    "    'Christmas Day': 6, 'New Years Day': 2, 'Washingtons Birthday': 11,\n",
    "    'Memorial Day': 5, 'Independence Day': 12, 'State Fair': 3,\n",
    "    'Labor Day': 9, 'Martin Luther King Jr Day': 4\n",
    "}\n",
    "weather_mapping = {\n",
    "    'Clear': 0, 'Clouds': 1, 'Rain': 3, 'Drizzle': 4, 'Mist': 5, 'Haze': 4,\n",
    "    'Fog': 7, 'Thunderstorm': 10, 'RainSnow': 8, 'Squall': 9, 'Smoke': 10\n",
    "}\n",
    "\n",
    "df['holiday'] = df['holiday'].map(holiday_mapping).fillna(7)\n",
    "df['weather'] = df['weather'].map(weather_mapping).fillna(0)\n",
    "\n",
    "features = ['holiday', 'temp', 'rain', 'snow', 'weather',\n",
    "            'day', 'month', 'year', 'hours', 'minutes', 'seconds']\n",
    "target = 'traffic_volume'\n",
    "\n",
    "X = df[features]\n",
    "y = df[target]\n",
    "\n",
    "scaler = StandardScaler()\n",
    "X_scaled = scaler.fit_transform(X)\n",
    "\n",
    "model = RandomForestRegressor(n_estimators=100, random_state=42)\n",
    "model.fit(X_scaled, y)\n",
    "\n",
    "with open(\"model.pkl\", \"wb\") as f:\n",
    "    pickle.dump(model, f)\n",
    "with open(\"scale.pkl\", \"wb\") as f:\n",
    "    pickle.dump(scaler, f)\n",
    "\n",
    "print(\"model.pkl and scale.pkl saved!\")"
   ]
  }
 ],
 "metadata": {
  "kernelspec": {
   "display_name": "Python 3",
   "language": "python",
   "name": "python3"
  },
  "language_info": {
   "codemirror_mode": {
    "name": "ipython",
    "version": 3
   },
   "file_extension": ".py",
   "mimetype": "text/x-python",
   "name": "python",
   "nbconvert_exporter": "python",
   "pygments_lexer": "ipython3",
   "version": "3.13.3"
  }
 },
 "nbformat": 4,
 "nbformat_minor": 5
}
